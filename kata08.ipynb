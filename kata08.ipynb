{
 "cells": [
  {
   "cell_type": "markdown",
   "metadata": {},
   "source": [
    "# Ejercicios Kata Modulo 8"
   ]
  },
  {
   "cell_type": "code",
   "execution_count": 13,
   "metadata": {},
   "outputs": [
    {
     "name": "stdout",
     "output_type": "stream",
     "text": [
      "Nombre del planeta: Marte \n",
      " Numero de lunas:  2\n",
      "Nombre del planeta: Marte \n",
      " Su circunferencia polar es:  6752 km\n"
     ]
    }
   ],
   "source": [
    "# Ejercicio 1\n",
    "planet = {\n",
    "        'name': 'Marte',\n",
    "        'moons': 2,\n",
    "}\n",
    "\n",
    "print('Nombre del planeta:', planet.get('name'), '\\n' , 'Numero de lunas: ', planet.get('moons'))\n",
    "\n",
    "planet['circunferencia (km)'] = {\n",
    "                                'polar': 6752,\n",
    "                                'equatorial': 6792\n",
    "}\n",
    "\n",
    "print('Nombre del planeta:', planet.get('name'), '\\n' , 'Su circunferencia polar es: ', planet.get('circunferencia (km)').get('polar'), 'km')"
   ]
  },
  {
   "cell_type": "code",
   "execution_count": 14,
   "metadata": {},
   "outputs": [
    {
     "name": "stdout",
     "output_type": "stream",
     "text": [
      "El promedio de lunas por planeta es:  17.833333333333332\n"
     ]
    }
   ],
   "source": [
    "# Ejercicio 2\n",
    "\n",
    "planet_moons = {\n",
    "    'mercury': 0,\n",
    "    'venus': 0,\n",
    "    'earth': 1,\n",
    "    'mars': 2,\n",
    "    'jupiter': 79,\n",
    "    'saturn': 82,\n",
    "    'uranus': 27,\n",
    "    'neptune': 14,\n",
    "    'pluto': 5,\n",
    "    'haumea': 2,\n",
    "    'makemake': 1,\n",
    "    'eris': 1\n",
    "}\n",
    "# Numero de lunas\n",
    "sum_moons = 0\n",
    "# Numero de planetas\n",
    "planets = len(planet_moons.keys())\n",
    "\n",
    "# Ciclo for\n",
    "for moon in planet_moons.values():\n",
    "        sum_moons = sum_moons + moon\n",
    "\n",
    "print('El promedio de lunas por planeta es: ', sum_moons/planets)\n",
    "\n"
   ]
  }
 ],
 "metadata": {
  "interpreter": {
   "hash": "cab1b03a2db1efdf7d2f67581067567014d307a7323958421d0ace5d41c2c894"
  },
  "kernelspec": {
   "display_name": "Python 3.10.2 64-bit",
   "language": "python",
   "name": "python3"
  },
  "language_info": {
   "codemirror_mode": {
    "name": "ipython",
    "version": 3
   },
   "file_extension": ".py",
   "mimetype": "text/x-python",
   "name": "python",
   "nbconvert_exporter": "python",
   "pygments_lexer": "ipython3",
   "version": "3.10.2"
  },
  "orig_nbformat": 4
 },
 "nbformat": 4,
 "nbformat_minor": 2
}

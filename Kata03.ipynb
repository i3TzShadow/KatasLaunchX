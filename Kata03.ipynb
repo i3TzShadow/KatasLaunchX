{
 "cells": [
  {
   "cell_type": "markdown",
   "metadata": {},
   "source": [
    "# Ejercicios Kata Modulo 3"
   ]
  },
  {
   "cell_type": "markdown",
   "metadata": {},
   "source": [
    "# Problema 1"
   ]
  },
  {
   "cell_type": "code",
   "execution_count": 1,
   "metadata": {},
   "outputs": [
    {
     "name": "stdout",
     "output_type": "stream",
     "text": [
      "Cuidado!!! Asteoride peligroso en camino\n"
     ]
    }
   ],
   "source": [
    "# Añadir el código necesario para crear una variable que guarde la velocidad del asteroide.\n",
    "# Escribe una expresión de prueba para calcular si necesita una advertencia.\n",
    "# Agregue las instrucciones que se ejecutarán si la expresión de prueba es true o false.\n",
    "vel_ast = 49 #Km/h\n",
    "\n",
    "if vel_ast > 25:\n",
    "    print('Cuidado!!! Asteoride peligroso en camino')\n",
    "else:\n",
    "    print('No pasa nada, salu2')\n",
    "    "
   ]
  },
  {
   "cell_type": "markdown",
   "metadata": {},
   "source": [
    "# Problema 2"
   ]
  },
  {
   "cell_type": "code",
   "execution_count": 2,
   "metadata": {},
   "outputs": [
    {
     "name": "stdout",
     "output_type": "stream",
     "text": [
      "No se vera nada esta noche\n"
     ]
    }
   ],
   "source": [
    "# Agrega el código para crear una variable para un asteroide que viaja a 19 km/s\n",
    "# Escribe varias expresiones de prueba para determinar si puedes ver el rayo de luz desde la tierra\n",
    "# Agrega las instrucciones que se ejecutarán si las expresiones de prueba son True o False\n",
    "vel_ast_t = 19 # km/h\n",
    "\n",
    "if vel_ast_t > 20:\n",
    "    print('Busca en el cielo la luz del asteroide!!!')\n",
    "elif vel_ast_t == 20:\n",
    "    print('Busca en el cielo la luz del asteroide!!!')\n",
    "else:\n",
    "    print('No se vera nada esta noche')\n",
    "\n",
    "    "
   ]
  },
  {
   "cell_type": "markdown",
   "metadata": {},
   "source": [
    "# Problema 3"
   ]
  },
  {
   "cell_type": "code",
   "execution_count": 3,
   "metadata": {},
   "outputs": [
    {
     "name": "stdout",
     "output_type": "stream",
     "text": [
      "Una estrella fugaz pide un deseo\n"
     ]
    }
   ],
   "source": [
    "# Agrega el código para crear nuevas variables para la velocidad y el tamaño del asteroide\n",
    "# Para probar el código, prueba con varias velocidades y tamaños\n",
    "# Escribe varias expresiones de prueba o combinaciones de expresiones de prueba para determinar qué mensaje se debe enviar a Tierra.\n",
    "vel_ast_f = 25\n",
    "tam_ast_f = 40\n",
    "\n",
    "\n",
    "if vel_ast_f > 25 and tam_ast_f > 25:\n",
    "    print('Ese asteroide viene a la tierra y causara mucho daño')\n",
    "elif vel_ast_f >= 20:\n",
    "    print('Una estrella fugaz pide un deseo')\n",
    "elif tam_ast_f < 25:\n",
    "    print('Seguimos con la programacion habitual')\n",
    "else:\n",
    "    print('Seguimos con la programacion habitual')\n"
   ]
  }
 ],
 "metadata": {
  "interpreter": {
   "hash": "cab1b03a2db1efdf7d2f67581067567014d307a7323958421d0ace5d41c2c894"
  },
  "kernelspec": {
   "display_name": "Python 3.10.2 64-bit",
   "language": "python",
   "name": "python3"
  },
  "language_info": {
   "codemirror_mode": {
    "name": "ipython",
    "version": 3
   },
   "file_extension": ".py",
   "mimetype": "text/x-python",
   "name": "python",
   "nbconvert_exporter": "python",
   "pygments_lexer": "ipython3",
   "version": "3.10.2"
  },
  "orig_nbformat": 4
 },
 "nbformat": 4,
 "nbformat_minor": 2
}

{
 "cells": [
  {
   "cell_type": "markdown",
   "metadata": {},
   "source": [
    "# Ejercicios Kata Modulo 7"
   ]
  },
  {
   "cell_type": "code",
   "execution_count": 5,
   "metadata": {},
   "outputs": [
    {
     "name": "stdout",
     "output_type": "stream",
     "text": [
      "Agregando el planeta:  mercurio\n",
      "Agregando el planeta:  venus\n",
      "Agregando el planeta:  tierra\n",
      "Agregando el planeta:  marte\n",
      "Agregando el planeta:  jupiter\n",
      "Agregando el planeta:  zsaturno\n",
      "Agregando el planeta:  urano\n"
     ]
    }
   ],
   "source": [
    "# Ejercicio 1\n",
    "\n",
    "# Variables\n",
    "new_planet  = '' # Almacena el dato de usuario\n",
    "planets = [] # Lista de planetas\n",
    "\n",
    "\n",
    "#Ciclo while \n",
    "while new_planet.lower() != 'done':\n",
    "    if new_planet:\n",
    "        print('Agregando el planeta: ', new_planet)\n",
    "        planets.append(new_planet)\n",
    "    new_planet = input('Ingresa el nombre del nuevo planeta: ')\n",
    "\n"
   ]
  },
  {
   "cell_type": "code",
   "execution_count": 6,
   "metadata": {},
   "outputs": [
    {
     "name": "stdout",
     "output_type": "stream",
     "text": [
      "Los planetas agregados fueron: \n",
      "mercurio\n",
      "venus\n",
      "tierra\n",
      "marte\n",
      "jupiter\n",
      "zsaturno\n",
      "urano\n"
     ]
    }
   ],
   "source": [
    "#Ejercicio 2\n",
    "\n",
    "print('Los planetas agregados fueron: ')\n",
    "for planeta in planets:\n",
    "    print(planeta)"
   ]
  }
 ],
 "metadata": {
  "interpreter": {
   "hash": "cab1b03a2db1efdf7d2f67581067567014d307a7323958421d0ace5d41c2c894"
  },
  "kernelspec": {
   "display_name": "Python 3.10.2 64-bit",
   "language": "python",
   "name": "python3"
  },
  "language_info": {
   "codemirror_mode": {
    "name": "ipython",
    "version": 3
   },
   "file_extension": ".py",
   "mimetype": "text/x-python",
   "name": "python",
   "nbconvert_exporter": "python",
   "pygments_lexer": "ipython3",
   "version": "3.10.2"
  },
  "orig_nbformat": 4
 },
 "nbformat": 4,
 "nbformat_minor": 2
}

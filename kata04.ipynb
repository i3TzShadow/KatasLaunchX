{
 "cells": [
  {
   "cell_type": "markdown",
   "metadata": {},
   "source": [
    "# Ejercicios Kata Modulo 4"
   ]
  },
  {
   "cell_type": "markdown",
   "metadata": {},
   "source": [
    "# Ejercicio->1"
   ]
  },
  {
   "cell_type": "code",
   "execution_count": 38,
   "metadata": {},
   "outputs": [],
   "source": [
    "text = \"\"\"Interesting facts about the Moon. The Moon is Earth's only satellite. There are several interesting facts about the Moon and how it affects life here on Earth. \n",
    "On average, the Moon moves 4cm away from the Earth every year. This yearly drift is not significant enough to cause immediate effects on Earth. The highest daylight temperature of the Moon is 127 C.\"\"\""
   ]
  },
  {
   "cell_type": "code",
   "execution_count": 39,
   "metadata": {},
   "outputs": [
    {
     "name": "stdout",
     "output_type": "stream",
     "text": [
      "['Interesting facts about the Moon', \" The Moon is Earth's only satellite\", ' There are several interesting facts about the Moon and how it affects life here on Earth', ' \\nOn average, the Moon moves 4cm away from the Earth every year', ' This yearly drift is not significant enough to cause immediate effects on Earth', ' The highest daylight temperature of the Moon is 127 C', '']\n"
     ]
    }
   ],
   "source": [
    "# Dividir en oraciones\n",
    "rcns = text.split('.')\n",
    "print(rcns)"
   ]
  },
  {
   "cell_type": "code",
   "execution_count": 40,
   "metadata": {},
   "outputs": [
    {
     "name": "stdout",
     "output_type": "stream",
     "text": [
      " \n",
      "On average, the Moon moves 4cm away from the Earth every year\n",
      " The highest daylight temperature of the Moon is 127 C\n"
     ]
    }
   ],
   "source": [
    "plb_clv = ['average', 'temperature' , 'distance']\n",
    "for ora in rcns:\n",
    "    for plb in plb_clv:\n",
    "        if ora.lower().find(plb) > -1:\n",
    "            print(ora)"
   ]
  },
  {
   "cell_type": "code",
   "execution_count": 41,
   "metadata": {},
   "outputs": [
    {
     "name": "stdout",
     "output_type": "stream",
     "text": [
      " \n",
      "On average, the Moon moves 4cm away from the Earth every year\n",
      " The highest daylight temperature of the Moon is 127 Celsius\n"
     ]
    }
   ],
   "source": [
    "plb_clv = ['average', 'temperature' , 'distance']\n",
    "for ora in rcns:\n",
    "    for plb in plb_clv:\n",
    "        if ora.lower().find(plb) > -1:\n",
    "            print(ora.replace(' C', ' Celsius'))"
   ]
  },
  {
   "cell_type": "markdown",
   "metadata": {},
   "source": [
    "# Ejercicio 2"
   ]
  },
  {
   "cell_type": "code",
   "execution_count": 42,
   "metadata": {},
   "outputs": [],
   "source": [
    "\n",
    "# Datos con los que vas a trabajar\n",
    "name = \"Moon\"\n",
    "gravity = 0.00162 # in kms\n",
    "planet = \"Earth\"\n",
    "\n"
   ]
  },
  {
   "cell_type": "code",
   "execution_count": 43,
   "metadata": {},
   "outputs": [
    {
     "name": "stdout",
     "output_type": "stream",
     "text": [
      "Earth & The Moon\n"
     ]
    },
    {
     "data": {
      "text/plain": [
       "'Earth & The Moon'"
      ]
     },
     "execution_count": 43,
     "metadata": {},
     "output_type": "execute_result"
    }
   ],
   "source": [
    "title = planet + ' & The ' + name\n",
    "print(title)\n",
    "title.title()"
   ]
  },
  {
   "cell_type": "code",
   "execution_count": 44,
   "metadata": {},
   "outputs": [
    {
     "name": "stdout",
     "output_type": "stream",
     "text": [
      "Planeta de estudio : Earth \n",
      " Nombre de su satelite: Moon \n",
      " Gravedad en el satelite: 1.62 m/s\n"
     ]
    }
   ],
   "source": [
    "gravity = round(gravity * 1000,2) # Para pasar de Km a metros\n",
    "facts = 'Planeta de estudio : {0} \\n Nombre de su satelite: {1} \\n Gravedad en el satelite: {2} m/s'.format(planet, name, gravity)\n",
    "print(facts)"
   ]
  },
  {
   "cell_type": "code",
   "execution_count": 45,
   "metadata": {},
   "outputs": [
    {
     "name": "stdout",
     "output_type": "stream",
     "text": [
      "Earth & The Moon\n",
      "Planeta de estudio : Earth \n",
      " Nombre de su satelite: Moon \n",
      " Gravedad en el satelite: 1.62 m/s\n"
     ]
    }
   ],
   "source": [
    "#Unimos titulo y hechos\n",
    "text = title + '\\n' + facts\n",
    "print(text)"
   ]
  },
  {
   "cell_type": "code",
   "execution_count": 46,
   "metadata": {},
   "outputs": [
    {
     "name": "stdout",
     "output_type": "stream",
     "text": [
      "Planeta de estudio : Marte  \n",
      " Nombre de su satelite: Ganímedes \n",
      " Gravedad en el satelite: 1.43 m/s\n"
     ]
    }
   ],
   "source": [
    "#Nueva Info\n",
    "name = \"Ganímedes\"\n",
    "gravity = 0.00143 # in kms\n",
    "planet = \"Marte \"\n",
    "gravity = round(gravity * 1000,2)  # para pasar a metros\n",
    "title = planet + ' & The ' + name\n",
    "facts = 'Planeta de estudio : {0} \\n Nombre de su satelite: {1} \\n Gravedad en el satelite: {2} m/s'.format(planet, name, gravity)\n",
    "print(facts)\n"
   ]
  },
  {
   "cell_type": "code",
   "execution_count": 47,
   "metadata": {},
   "outputs": [
    {
     "name": "stdout",
     "output_type": "stream",
     "text": [
      "Earth & The Moon\n",
      "Planeta de estudio : Earth \n",
      " Nombre de su satelite: Moon \n",
      " Gravedad en el satelite: 1.62 m/s\n",
      "Marte  & The Ganímedes\n",
      "Planeta de estudio : Marte  \n",
      " Nombre de su satelite: Ganímedes \n",
      " Gravedad en el satelite: 1.43 m/s\n"
     ]
    }
   ],
   "source": [
    "# Agregamos el nuevo planeta\n",
    "\n",
    "text = text + '\\n' + title + '\\n' + facts\n",
    "\n",
    "print(text)"
   ]
  }
 ],
 "metadata": {
  "interpreter": {
   "hash": "cab1b03a2db1efdf7d2f67581067567014d307a7323958421d0ace5d41c2c894"
  },
  "kernelspec": {
   "display_name": "Python 3.10.2 64-bit",
   "language": "python",
   "name": "python3"
  },
  "language_info": {
   "codemirror_mode": {
    "name": "ipython",
    "version": 3
   },
   "file_extension": ".py",
   "mimetype": "text/x-python",
   "name": "python",
   "nbconvert_exporter": "python",
   "pygments_lexer": "ipython3",
   "version": "3.10.2"
  },
  "orig_nbformat": 4
 },
 "nbformat": 4,
 "nbformat_minor": 2
}

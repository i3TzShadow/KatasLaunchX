{
 "cells": [
  {
   "cell_type": "markdown",
   "metadata": {},
   "source": [
    "# Ejercicios Kata Modulo 8"
   ]
  },
  {
   "cell_type": "code",
   "execution_count": 24,
   "metadata": {},
   "outputs": [
    {
     "name": "stdout",
     "output_type": "stream",
     "text": [
      "Promedio de combustible:  55.0\n",
      "Combustible tanque 1: 50\n",
      "Combustible tanque 2: 30\n",
      "Combustible tanque 3: 85\n"
     ]
    }
   ],
   "source": [
    "# Ejercicio 1\n",
    "\n",
    "def promedio(v1, v2, v3):\n",
    "    prom = (v1 + v2 + v3)/3\n",
    "    return prom\n",
    "\n",
    "\n",
    "def nivelTanque(tanquno, tanqdos, tanqtres):\n",
    "    print('Promedio de combustible: ', promedio(tanquno, tanqdos, tanqtres))\n",
    "    print('Combustible tanque 1:', tanquno)\n",
    "    print('Combustible tanque 2:', tanqdos)\n",
    "    print('Combustible tanque 3:', tanqtres)\n",
    "\n",
    "\n",
    "nivelTanque(50, 30, 85)"
   ]
  },
  {
   "cell_type": "code",
   "execution_count": 27,
   "metadata": {},
   "outputs": [
    {
     "name": "stdout",
     "output_type": "stream",
     "text": [
      "Mision rumbo a: Marte\n",
      "Tiempo total de viaje:  6  horas\n",
      "Combustible restante:  240  litros\n",
      "Mision rumbo a: Marte\n",
      "Tiempo total de viaje:  7  horas\n",
      "Combustible restante:  240  litros\n"
     ]
    }
   ],
   "source": [
    "# Ejercicio 2\n",
    "def report(hr_pre, t_vl, dest, tan_o2, tan_int):\n",
    "    print('Mision rumbo a:', dest)\n",
    "    print('Tiempo total de viaje: ', hr_pre + t_vl, ' horas')\n",
    "    print('Combustible restante: ', tan_o2 + tan_int, ' litros')\n",
    "\n",
    "report(4, 2, 'Marte', 90, 150)\n",
    "\n",
    "def report_m(dest, *hours, **fuel_reservoirs):\n",
    "    print('Mision rumbo a:', dest)\n",
    "    print('Tiempo total de viaje: ', sum(hours), ' horas')\n",
    "    print('Combustible restante: ', sum(fuel_reservoirs.values()), ' litros')\n",
    "\n",
    "report_m('Marte', 5, 2, tan1 = 90, tan2 = 150)\n",
    "\n"
   ]
  }
 ],
 "metadata": {
  "interpreter": {
   "hash": "cab1b03a2db1efdf7d2f67581067567014d307a7323958421d0ace5d41c2c894"
  },
  "kernelspec": {
   "display_name": "Python 3.10.2 64-bit",
   "language": "python",
   "name": "python3"
  },
  "language_info": {
   "codemirror_mode": {
    "name": "ipython",
    "version": 3
   },
   "file_extension": ".py",
   "mimetype": "text/x-python",
   "name": "python",
   "nbconvert_exporter": "python",
   "pygments_lexer": "ipython3",
   "version": "3.10.2"
  },
  "orig_nbformat": 4
 },
 "nbformat": 4,
 "nbformat_minor": 2
}

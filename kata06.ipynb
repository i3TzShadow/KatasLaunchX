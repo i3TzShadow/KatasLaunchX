{
 "cells": [
  {
   "cell_type": "markdown",
   "metadata": {},
   "source": [
    "# Ejercicios Kata Modulo 6 "
   ]
  },
  {
   "cell_type": "code",
   "execution_count": 10,
   "metadata": {},
   "outputs": [
    {
     "name": "stdout",
     "output_type": "stream",
     "text": [
      "En el sistema solar se tienen:  8  Planetas\n",
      "En el sistema solar se tienen:  9  Planetas\n",
      "Pluton <- Es el ultimo planeta \n"
     ]
    }
   ],
   "source": [
    "# Ejercicio 1\n",
    "planets = [\n",
    "    'Mercurio',\n",
    "    'Venus',\n",
    "    'Tierra',\n",
    "    'Marte',\n",
    "    'Jupiter',\n",
    "    'Saturno',\n",
    "    'Urano',\n",
    "    'Neptuno',\n",
    "    ]\n",
    "print('En el sistema solar se tienen: ', len(planets) , ' Planetas')\n",
    "planets.append('Pluton')\n",
    "\n",
    "print('En el sistema solar se tienen: ', len(planets) , ' Planetas')\n",
    "print(planets[-1], '<- Es el ultimo planeta ')\n"
   ]
  },
  {
   "cell_type": "code",
   "execution_count": 11,
   "metadata": {},
   "outputs": [
    {
     "name": "stdout",
     "output_type": "stream",
     "text": [
      "Los planetas entre el sol y Pluton son:  ['Mercurio', 'Venus', 'Tierra', 'Marte', 'Jupiter', 'Saturno', 'Urano', 'Neptuno']\n",
      "Los planetas mas alejados de Pluton son:  []\n"
     ]
    }
   ],
   "source": [
    "# Ejercicio 2\n",
    "planets = [\n",
    "    'Mercurio',\n",
    "    'Venus',\n",
    "    'Tierra',\n",
    "    'Marte',\n",
    "    'Jupiter',\n",
    "    'Saturno',\n",
    "    'Urano',\n",
    "    'Neptuno',\n",
    "    'Pluton'\n",
    "    ]\n",
    "\n",
    "uplan = input('Ingresa el nombre del planeta: ')\n",
    "planetpos = planets.index(uplan)\n",
    "\n",
    "print('Los planetas entre el sol y', uplan, 'son: ', planets[0:planetpos])\n",
    "print('Los planetas mas alejados de', uplan, 'son: ', planets[planetpos +1:])\n"
   ]
  }
 ],
 "metadata": {
  "interpreter": {
   "hash": "cab1b03a2db1efdf7d2f67581067567014d307a7323958421d0ace5d41c2c894"
  },
  "kernelspec": {
   "display_name": "Python 3.10.2 64-bit",
   "language": "python",
   "name": "python3"
  },
  "language_info": {
   "codemirror_mode": {
    "name": "ipython",
    "version": 3
   },
   "file_extension": ".py",
   "mimetype": "text/x-python",
   "name": "python",
   "nbconvert_exporter": "python",
   "pygments_lexer": "ipython3",
   "version": "3.10.2"
  },
  "orig_nbformat": 4
 },
 "nbformat": 4,
 "nbformat_minor": 2
}

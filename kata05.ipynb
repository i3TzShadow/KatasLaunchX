{
 "cells": [
  {
   "cell_type": "markdown",
   "metadata": {},
   "source": [
    "# Ejercicios Kata modulo 5"
   ]
  },
  {
   "cell_type": "code",
   "execution_count": 5,
   "metadata": {},
   "outputs": [
    {
     "name": "stdout",
     "output_type": "stream",
     "text": [
      "La distancia entre la Tierra y Jupiter es:  628949330  km\n",
      "La distancia entre la Tierra y Jupiter es:  390577534  millas\n"
     ]
    }
   ],
   "source": [
    "# Ejercicio 1\n",
    "# Distancia tierra\n",
    "d_tierra =  149597870 #Km\n",
    "d_jupiter = 778547200 #km\n",
    "d_jt = 0\n",
    "# Asumiendo orbitas esfericas\n",
    "d_jt = d_jupiter - d_tierra\n",
    "print('La distancia entre la Tierra y Jupiter es: ', d_jt , ' km')\n",
    "print('La distancia entre la Tierra y Jupiter es: ', round(d_jt*0.621) , ' millas')"
   ]
  },
  {
   "cell_type": "code",
   "execution_count": 7,
   "metadata": {},
   "outputs": [
    {
     "name": "stdout",
     "output_type": "stream",
     "text": [
      "La distancia entre los dos planetas es:  65151691979515  km\n",
      "La distancia entre los dos planetas es:  40459200719278.81  km\n"
     ]
    }
   ],
   "source": [
    "# Ejercicio 2\n",
    "pl1 = input('Introduzca la distancia al sol del primer planeta: ')\n",
    "pl2 = input('Introduzca la distancia al sol del segundo planeta: ')\n",
    "\n",
    "pl1 = int(pl1)\n",
    "pl2 = int(pl2)\n",
    "\n",
    "d12 = abs(pl2 - pl1)\n",
    "\n",
    "print('La distancia entre los dos planetas es: ', d12, ' km')\n",
    "print('La distancia entre los dos planetas es: ', d12*0.621, ' millas')"
   ]
  }
 ],
 "metadata": {
  "interpreter": {
   "hash": "cab1b03a2db1efdf7d2f67581067567014d307a7323958421d0ace5d41c2c894"
  },
  "kernelspec": {
   "display_name": "Python 3.10.2 64-bit",
   "language": "python",
   "name": "python3"
  },
  "language_info": {
   "codemirror_mode": {
    "name": "ipython",
    "version": 3
   },
   "file_extension": ".py",
   "mimetype": "text/x-python",
   "name": "python",
   "nbconvert_exporter": "python",
   "pygments_lexer": "ipython3",
   "version": "3.10.2"
  },
  "orig_nbformat": 4
 },
 "nbformat": 4,
 "nbformat_minor": 2
}
